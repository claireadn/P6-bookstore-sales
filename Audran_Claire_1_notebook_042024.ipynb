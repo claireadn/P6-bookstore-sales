{
 "cells": [
  {
   "cell_type": "markdown",
   "id": "e489fb8b",
   "metadata": {},
   "source": [
    "# Results synthesis\n",
    "\n",
    "In 2022, the online store's sales climbed 28%, mainly due to a February-March sales peak and a good year-on-year stability. \n",
    "\n",
    "However, category 1 sales fell sharply in October 2021, despite an average price of 20.49 euros. \n",
    "\n",
    "First-quarter revenues came close to 1 million euros, and 2023 looks set to be even better. \n",
    "\n",
    "Customers have different profiles, with parity between men and women, but age is a determining factor, with 35-44 year-olds in the lead. Most customers are occasional."
   ]
  },
  {
   "cell_type": "markdown",
   "id": "a710c495",
   "metadata": {},
   "source": [
    "## 1. Preliminary"
   ]
  },
  {
   "cell_type": "markdown",
   "id": "5b8651a3",
   "metadata": {},
   "source": [
    "### 1.1 Libraries"
   ]
  },
  {
   "cell_type": "code",
   "execution_count": null,
   "id": "502012ac",
   "metadata": {},
   "outputs": [],
   "source": [
    "import pandas as pd\n",
    "import numpy as np\n",
    "from scipy import stats\n",
    "from scipy.stats import pearsonr, shapiro, f_oneway, ks_2samp, chi2_contingency\n",
    "import matplotlib.pyplot as plt\n",
    "import matplotlib.dates as mdates\n",
    "import seaborn as sns\n",
    "import datetime as dt\n",
    "\n",
    "# Options pandas\n",
    "pd.options.mode.chained_assignment = None\n",
    "\n",
    "# Constants\n",
    "today = dt.date.today()\n",
    "year = today.strftime(\"%Y\")"
   ]
  },
  {
   "cell_type": "markdown",
   "id": "d19bad3d",
   "metadata": {},
   "source": [
    "### 1.2 Data"
   ]
  },
  {
   "cell_type": "code",
   "execution_count": null,
   "id": "d56b9c3e",
   "metadata": {},
   "outputs": [],
   "source": [
    "# Data Exploration\n",
    "datasets_info = {\n",
    "    \"transactions\": {\"filename\": \"transactions.csv\", \"columns\": [\"transaction_id\", \"date\", \"client_id\", \"product_id\", \"quantity\"]},\n",
    "    \"products\": {\"filename\": \"products.csv\", \"columns\": [\"product_id\", \"price\", \"category\"]},\n",
    "    \"customers\": {\"filename\": \"customers.csv\", \"columns\": [\"client_id\", \"sex\", \"birth_year\"]}\n",
    "}"
   ]
  },
  {
   "cell_type": "code",
   "execution_count": null,
   "id": "392c4312",
   "metadata": {},
   "outputs": [],
   "source": [
    "for dataset_name, info in datasets_info.items():\n",
    "    data = pd.read_csv(info[\"filename\"])\n",
    "    print(f\"Dataset {dataset_name.capitalize()}:\")\n",
    "    print(f\"We have {data.shape[0]} entries recorded with {len(info['columns'])} different variables.\")\n",
    "    display(data.head())\n",
    "    print(\"\\n\")"
   ]
  },
  {
   "cell_type": "markdown",
   "id": "bcf56cba",
   "metadata": {},
   "source": [
    "## 2. Data Cleaning"
   ]
  },
  {
   "cell_type": "markdown",
   "id": "0b828251",
   "metadata": {},
   "source": [
    "### 2.1 Data Formatting"
   ]
  },
  {
   "cell_type": "code",
   "execution_count": null,
   "id": "c2076a50",
   "metadata": {
    "scrolled": true
   },
   "outputs": [],
   "source": [
    "# Transactions Date Formatting\n",
    "transaction = pd.read_csv(\"transactions.csv\")\n",
    "transaction = transaction[~transaction[\"date\"].str.contains(\"test_2021\")]\n",
    "transaction[[\"date\", \"time\"]] = transaction[\"date\"].str.split(\" \", expand=True)\n",
    "transaction[\"date\"] = pd.to_datetime(transaction[\"date\"])"
   ]
  },
  {
   "cell_type": "code",
   "execution_count": null,
   "id": "a5325914",
   "metadata": {},
   "outputs": [],
   "source": [
    "# Products Category Formatting\n",
    "product = pd.read_csv(\"products.csv\")\n",
    "product[\"categ\"] = product[\"categ\"].astype(str)"
   ]
  },
  {
   "cell_type": "markdown",
   "id": "a804eae1",
   "metadata": {},
   "source": [
    "### 2.2 Outlier Detection"
   ]
  },
  {
   "cell_type": "code",
   "execution_count": null,
   "id": "66800578",
   "metadata": {},
   "outputs": [],
   "source": [
    "# Negative Price Treatment\n",
    "neg_product = product[product[\"price\"] < 0]\n",
    "product.loc[product[\"price\"] < 0, \"price\"] = 0"
   ]
  },
  {
   "cell_type": "markdown",
   "id": "fd938ed2",
   "metadata": {},
   "source": [
    "### 2.3. Merging tables"
   ]
  },
  {
   "cell_type": "code",
   "execution_count": null,
   "id": "481dec29",
   "metadata": {},
   "outputs": [],
   "source": [
    "# Resetting index of datasets\n",
    "transaction.reset_index(drop=True, inplace=True)\n",
    "product.reset_index(drop=True, inplace=True)"
   ]
  },
  {
   "cell_type": "code",
   "execution_count": null,
   "id": "50beffff",
   "metadata": {},
   "outputs": [],
   "source": [
    "# Left join of transactions with products\n",
    "df_product = pd.merge(transaction, product, how=\"left\", on=\"id_prod\")"
   ]
  },
  {
   "cell_type": "code",
   "execution_count": null,
   "id": "6fd0ce32",
   "metadata": {},
   "outputs": [],
   "source": [
    "# Joining the new dataset with clients\n",
    "customers = pd.read_csv(\"customers.csv\")\n",
    "df_lapage = pd.merge(df_product, customers, how=\"right\", on=\"client_id\")\n",
    "display(df_lapage.head().round(2))"
   ]
  },
  {
   "cell_type": "markdown",
   "id": "9dd92e48",
   "metadata": {},
   "source": [
    "### 2.4 Cleaning the final join"
   ]
  },
  {
   "cell_type": "code",
   "execution_count": null,
   "id": "741193d7",
   "metadata": {},
   "outputs": [],
   "source": [
    "# Extracting clients without transactions\n",
    "clients_no_transaction = df_lapage.loc[df_lapage[\"id_prod\"].isnull() & df_lapage[\"session_id\"].isnull()]\n",
    "clients_no_transaction[\"age\"] = int(year) - clients_no_transaction[\"birth\"]\n",
    "print(\"Clients with no transactions:\\n\", clients_no_transaction.head())\n",
    "print(\"Number of clients with no transactions:\", clients_no_transaction.shape[0])"
   ]
  },
  {
   "cell_type": "code",
   "execution_count": null,
   "id": "1045f6a4",
   "metadata": {},
   "outputs": [],
   "source": [
    "# Dropping clients with no transactions from the main dataset\n",
    "df_lapage = df_lapage.dropna(subset=[\"id_prod\"]).reset_index(drop=True)\n",
    "print(\"\\nFinal dataset after removing clients with no transactions:\")\n",
    "print(df_lapage.shape)"
   ]
  },
  {
   "cell_type": "code",
   "execution_count": null,
   "id": "69870bf7",
   "metadata": {},
   "outputs": [],
   "source": [
    "# Checking for empty transactions related to the same product\n",
    "empty_transactions = df_lapage.loc[df_lapage[\"price\"].isnull() & df_lapage[\"categ\"].isnull()]\n",
    "print(\"\\nEmpty transactions related to the same product:\\n\", empty_transactions.head())\n",
    "print(\"Number of empty transactions related to the same product:\", empty_transactions.shape[0])"
   ]
  },
  {
   "cell_type": "markdown",
   "id": "9a913e39",
   "metadata": {},
   "source": [
    "### 2.5 Filling in the Empty Product"
   ]
  },
  {
   "cell_type": "code",
   "execution_count": null,
   "id": "c651bb8a",
   "metadata": {},
   "outputs": [],
   "source": [
    "# Gender\n",
    "print(\"\\nGender Distribution for the Empty Product:\")\n",
    "print(empty_transactions.groupby([\"sex\"]).size())"
   ]
  },
  {
   "cell_type": "code",
   "execution_count": null,
   "id": "8a44a539",
   "metadata": {},
   "outputs": [],
   "source": [
    "# Age\n",
    "birth_product_empty = empty_transactions.groupby([\"birth\"]).size().reset_index(name=\"nb_sales\")\n",
    "birth_product_empty[\"age\"] = int(year) - birth_product_empty[\"birth\"]\n",
    "print(\"\\nAverage age of buyers of this product is:\", round(birth_product_empty[\"age\"].mean(), 2), \"years.\")\n",
    "empty_transactions.loc[:, \"categ\"] = '0'\n",
    "empty_transactions.loc[:, \"price\"] = 10.64\n",
    "print(\"\\nFilled Product Information:\")\n",
    "print(empty_transactions.head())"
   ]
  },
  {
   "cell_type": "code",
   "execution_count": null,
   "id": "952338ac",
   "metadata": {},
   "outputs": [],
   "source": [
    "# Total revenue estimation for the empty product\n",
    "total_revenue_empty_product = empty_transactions[\"price\"].sum()\n",
    "formatted_revenue = '{:,.2f}'.format(total_revenue_empty_product)\n",
    "print(\"\\nThe total revenue estimation for product 0_2245 is €\", formatted_revenue)"
   ]
  },
  {
   "cell_type": "markdown",
   "id": "ece23b58",
   "metadata": {},
   "source": [
    "### 2.6 Data Organization"
   ]
  },
  {
   "cell_type": "code",
   "execution_count": null,
   "id": "082961b2",
   "metadata": {},
   "outputs": [],
   "source": [
    "# Removing rows with empty prices from the main dataset\n",
    "df_lapage = df_lapage.dropna(subset=[\"price\"]).reset_index(drop=True)\n",
    "print(\"Final dataset shape:\", df_lapage.shape)"
   ]
  },
  {
   "cell_type": "code",
   "execution_count": null,
   "id": "961f6d88",
   "metadata": {},
   "outputs": [],
   "source": [
    "# Checking that the join has not affected the data formatting or detected outliers\n",
    "print(\"\\nData Information after Join:\")\n",
    "print(df_lapage.info())\n",
    "print(\"\\nDescriptive Statistics of the Data after Join:\")\n",
    "print(df_lapage.describe())"
   ]
  },
  {
   "cell_type": "markdown",
   "id": "b3fec328",
   "metadata": {},
   "source": [
    "### 2.7 Age Calculation"
   ]
  },
  {
   "cell_type": "code",
   "execution_count": null,
   "id": "4985761e",
   "metadata": {},
   "outputs": [],
   "source": [
    "# Calculate the age of each client\n",
    "df_lapage[\"age\"] = int(year) - df_lapage[\"birth\"]\n",
    "display(df_lapage.head().round(2))"
   ]
  },
  {
   "cell_type": "markdown",
   "id": "36225715",
   "metadata": {},
   "source": [
    "## 3. Sales Indicators<a class=\"anchor\" id=\"sous_partie4-1\"></a>"
   ]
  },
  {
   "cell_type": "code",
   "execution_count": null,
   "id": "9e5520fa",
   "metadata": {},
   "outputs": [],
   "source": [
    "df_lapage_sales = df_lapage[[\"date\", \"client_id\", \"id_prod\", \"price\", \"categ\"]]"
   ]
  },
  {
   "cell_type": "code",
   "execution_count": null,
   "id": "1c054732",
   "metadata": {},
   "outputs": [],
   "source": [
    "# Daily revenues and aggregate data monthly\n",
    "monthly_revenues = df_lapage_sales.groupby(df_lapage[\"date\"]).agg({\"price\": \"sum\"})\n",
    "monthly_revenues.rename(columns={\"price\": \"revenues\"}, inplace=True)"
   ]
  },
  {
   "cell_type": "code",
   "execution_count": null,
   "id": "05d7df3e",
   "metadata": {},
   "outputs": [],
   "source": [
    "# 21-day rolling average\n",
    "monthly_revenues[\"21day_rolling_avg\"] = monthly_revenues[\"revenues\"].rolling(21).mean()\n",
    "monthly_revenues = monthly_revenues.reset_index()"
   ]
  },
  {
   "cell_type": "code",
   "execution_count": null,
   "id": "59b55522",
   "metadata": {},
   "outputs": [],
   "source": [
    "# Display the last 5 entries\n",
    "display(monthly_revenues.tail().round(2))"
   ]
  },
  {
   "cell_type": "code",
   "execution_count": null,
   "id": "33f957fb",
   "metadata": {},
   "outputs": [],
   "source": [
    "# Plot monthly revenue evolution\n",
    "fig, ax = plt.subplots(figsize=(11, 6))\n",
    "ax.plot(monthly_revenues[\"date\"], monthly_revenues[\"revenues\"], color=\"#FFC07D\", linewidth=0.5)\n",
    "ax.plot(monthly_revenues[\"date\"], monthly_revenues[\"21day_rolling_avg\"], color=\"#E74646\", linewidth=1.2)\n",
    "\n",
    "ax.set_title(\"Monthly Revenue Evolution for Lapage\", loc='left', fontsize=13, fontweight=\"bold\")\n",
    "ax.set_xlabel(\"Date\")\n",
    "ax.set_ylabel(\"Revenue\")\n",
    "ax.legend([\"Revenue (€)\", \"21-Day Rolling Average (€)\"])\n",
    "\n",
    "plt.show()"
   ]
  },
  {
   "cell_type": "code",
   "execution_count": null,
   "id": "11dce850",
   "metadata": {},
   "outputs": [],
   "source": [
    "# Calculate monthly revenue and average monthly revenue\n",
    "monthly_total_revenue = monthly_revenues[\"revenues\"].sum()\n",
    "average_monthly_revenue = monthly_total_revenue / 12\n",
    "\n",
    "print(f\"The average monthly revenue is €{average_monthly_revenue:.2f}\")"
   ]
  },
  {
   "cell_type": "code",
   "execution_count": null,
   "id": "29beb42c",
   "metadata": {},
   "outputs": [],
   "source": [
    "# Calculate the coefficient by dividing monthly revenue by the average monthly revenue\n",
    "monthly_revenues[\"coeff\"] = (monthly_revenues[\"revenues\"] / average_monthly_revenue).round(3)\n",
    "monthly_revenues = monthly_revenues.reset_index()"
   ]
  },
  {
   "cell_type": "code",
   "execution_count": null,
   "id": "c8fc849e",
   "metadata": {},
   "outputs": [],
   "source": [
    "# Plot seasonal coefficient variation\n",
    "fig, ax = plt.subplots(figsize=(11, 6))\n",
    "monthly_revenues.groupby(monthly_revenues[\"date\"].dt.strftime('%m')).agg({\"coeff\": \"mean\"}).plot(ax=ax, legend=True, color=\"#E74646\", linewidth=1.2)\n",
    "ax.set_xlabel(\"Month\")\n",
    "ax.set_ylabel(\"Coefficient\")\n",
    "ax.set_title(\"Mean Seasonal Coefficient\", loc='left', fontsize=13, fontweight=\"bold\")\n",
    "\n",
    "plt.show()"
   ]
  },
  {
   "cell_type": "markdown",
   "id": "f08d9edc",
   "metadata": {},
   "source": [
    "We can conclude that January, October and December are the most seasonal months.\n",
    "\n",
    "It would be better to do promotions in March, June, August and November to smooth out this curve."
   ]
  },
  {
   "cell_type": "markdown",
   "id": "03c8775f",
   "metadata": {},
   "source": [
    "### 3.1 Revenue Growth"
   ]
  },
  {
   "cell_type": "code",
   "execution_count": null,
   "id": "a92b6aca",
   "metadata": {},
   "outputs": [],
   "source": [
    "changes = df_lapage_sales.groupby(df_lapage[\"date\"].dt.to_period('Y')).agg({\"price\": \"sum\"}).pct_change() * 100\n",
    "changes.rename(columns={\"price\": \"evol\"}, inplace=True)\n",
    "display(changes.round(2))"
   ]
  },
  {
   "cell_type": "markdown",
   "id": "ef92272f",
   "metadata": {},
   "source": [
    "### 3.2 Total Revenue"
   ]
  },
  {
   "cell_type": "code",
   "execution_count": null,
   "id": "bb901f95",
   "metadata": {},
   "outputs": [],
   "source": [
    "total_revenue = df_lapage_sales[\"price\"].sum()\n",
    "print(f\"Total online revenue is €{total_revenue:,.2f}\")"
   ]
  },
  {
   "cell_type": "code",
   "execution_count": null,
   "id": "578682af",
   "metadata": {},
   "outputs": [],
   "source": [
    "# With the empty product estimation\n",
    "total_with_empty_product = total_revenue + total_revenue_empty_product\n",
    "print(f\"Total online revenue, including the estimation of empty product, is €{total_with_empty_product:,.2f}\")"
   ]
  },
  {
   "cell_type": "markdown",
   "id": "e84573a1",
   "metadata": {},
   "source": [
    "### 3.4 October 2021: Why the decrease?"
   ]
  },
  {
   "cell_type": "code",
   "execution_count": null,
   "id": "c8e2c390",
   "metadata": {},
   "outputs": [],
   "source": [
    "october_sales = df_lapage_sales[(df_lapage_sales[\"date\"] >= \"2021-10-01\") & (df_lapage_sales[\"date\"] <= \"2021-10-31\")]\n",
    "evol_revenues_october = october_sales.groupby(\"date\").agg({\"price\": \"sum\"}).reset_index()\n",
    "evol_revenues_october.rename(columns={\"price\": \"revenues\"}, inplace=True)"
   ]
  },
  {
   "cell_type": "code",
   "execution_count": null,
   "id": "2858cea0",
   "metadata": {},
   "outputs": [],
   "source": [
    "# Plot revenue evolution in October 2021\n",
    "fig, ax = plt.subplots(figsize=(11, 6))\n",
    "ax.plot(evol_revenues_october[\"date\"], evol_revenues_october[\"revenues\"], linewidth=1.2, color=\"#E74646\")\n",
    "ax.set_title(\"Sales Evolution in October 2021\", loc='left', fontsize=13, fontweight=\"bold\")\n",
    "ax.set_xlabel(\"Date\")\n",
    "ax.set_ylabel(\"Revenue\")\n",
    "ax.legend([\"Revenue (€)\"])\n",
    "\n",
    "plt.show()"
   ]
  },
  {
   "cell_type": "code",
   "execution_count": null,
   "id": "620335a6",
   "metadata": {},
   "outputs": [],
   "source": [
    "# Sales by category\n",
    "categ_october = october_sales.groupby([\"categ\"]).agg({\"price\": \"sum\", \"id_prod\": \"count\"})\n",
    "categ_october.rename(columns={\"id_prod\": \"nb_sales\", \"price\": \"revenues\"}, inplace=True)\n",
    "display(categ_october)"
   ]
  },
  {
   "cell_type": "code",
   "execution_count": null,
   "id": "a61e957a",
   "metadata": {},
   "outputs": [],
   "source": [
    "# Plot sales by category\n",
    "fig, ax = plt.subplots(figsize=(6, 6))\n",
    "ax.pie(categ_october[\"nb_sales\"], labels=categ_october.index, autopct='%.0f%%', colors=[\"#E74646\", \"#FA9884\", \"#FFC07D\"])\n",
    "ax.set_title(\"Sales Distribution by Category\")\n",
    "\n",
    "plt.show()"
   ]
  },
  {
   "cell_type": "markdown",
   "id": "7a4fb2b3",
   "metadata": {},
   "source": [
    "### 3.5 Average Price per Category"
   ]
  },
  {
   "cell_type": "code",
   "execution_count": null,
   "id": "698a2a40",
   "metadata": {},
   "outputs": [],
   "source": [
    "avg_price_per_category = df_lapage_sales.groupby([\"categ\"]).agg({\"price\": \"mean\"})\n",
    "avg_price_per_category.rename(columns={\"price\": \"avg_price\"}, inplace=True)\n",
    "display(avg_price_per_category.round(2))"
   ]
  },
  {
   "cell_type": "markdown",
   "id": "de709271",
   "metadata": {},
   "source": [
    "### 3.5 References: Tops and Flops<a class=\"anchor\" id=\"sous_partie4-1-6\"></a>"
   ]
  },
  {
   "cell_type": "code",
   "execution_count": null,
   "id": "38c33f54",
   "metadata": {},
   "outputs": [],
   "source": [
    "df_lapage_ref = df_lapage[[\"id_prod\", \"price\", \"categ\"]]"
   ]
  },
  {
   "cell_type": "code",
   "execution_count": null,
   "id": "cad40cad",
   "metadata": {},
   "outputs": [],
   "source": [
    "# Top 5 most profitable references\n",
    "top_profitable_references = df_lapage_ref.groupby([\"id_prod\", \"categ\"]).agg({\"price\": \"sum\", \"id_prod\": \"count\"}).sort_values(\"price\", ascending=False).head()\n",
    "top_profitable_references.rename(columns={\"id_prod\": \"nb_sales\", \"price\": \"revenues\"}, inplace=True)\n",
    "\n",
    "display(top_profitable_references)"
   ]
  },
  {
   "cell_type": "code",
   "execution_count": null,
   "id": "aa21c070",
   "metadata": {},
   "outputs": [],
   "source": [
    "# Top 5 least profitable references\n",
    "least_profitable_references = df_lapage_ref.groupby([\"id_prod\", \"categ\"]).agg({\"price\": \"sum\", \"id_prod\": \"count\"}).sort_values(\"price\", ascending=True).head()\n",
    "least_profitable_references.rename(columns={\"id_prod\": \"nb_sales\", \"price\": \"revenues\"}, inplace=True)\n",
    "\n",
    "display(least_profitable_references)"
   ]
  },
  {
   "cell_type": "code",
   "execution_count": null,
   "id": "b7006e5f",
   "metadata": {},
   "outputs": [],
   "source": [
    "# Top 5 most sold references\n",
    "top_sold_references = df_lapage_ref.groupby([\"id_prod\", \"categ\"]).agg(revenues=(\"price\", \"sum\"), nb_sales=(\"id_prod\", \"count\")).reset_index().sort_values(\"nb_sales\", ascending=False).head()\n",
    "\n",
    "display(top_sold_references)"
   ]
  },
  {
   "cell_type": "code",
   "execution_count": null,
   "id": "65f4896e",
   "metadata": {},
   "outputs": [],
   "source": [
    "# Top 5 least sold references\n",
    "least_sold_references = df_lapage_ref.groupby([\"id_prod\", \"categ\"]).agg(revenues=(\"price\", \"sum\"), nb_sales=(\"id_prod\", \"count\")).reset_index().sort_values(\"nb_sales\", ascending=True).head()\n",
    "\n",
    "display(least_sold_references)"
   ]
  },
  {
   "cell_type": "markdown",
   "id": "d6b47381",
   "metadata": {},
   "source": [
    "- Category 2 generates the most revenue.\n",
    "- Category 1 has the highest sales volume.\n",
    "- Category 0, the most affordable one, has the least popularity."
   ]
  },
  {
   "cell_type": "markdown",
   "id": "0d903ca8",
   "metadata": {},
   "source": [
    "### 3.6 Sales Distribution by Category"
   ]
  },
  {
   "cell_type": "code",
   "execution_count": null,
   "id": "2bf76402",
   "metadata": {},
   "outputs": [],
   "source": [
    "sales_by_category = df_lapage.groupby([\"categ\"]).agg({\"price\": \"sum\", \"id_prod\": \"count\"})\n",
    "sales_by_category.rename(columns={\"price\": \"revenues\", \"id_prod\": \"nb_sales\"}, inplace=True)\n",
    "display(sales_by_category)"
   ]
  },
  {
   "cell_type": "code",
   "execution_count": null,
   "id": "9a349065",
   "metadata": {},
   "outputs": [],
   "source": [
    "# Plot sales distribution by category\n",
    "data_sales = sales_by_category[\"nb_sales\"]\n",
    "labels_sales = [\"Cat 0\", \"Cat 1\", \"Cat 2\"]\n",
    "colors = [\"#E74646\", \"#FA9884\", \"#FFC07D\"]\n",
    "\n",
    "plt.pie(data_sales, labels=labels_sales, autopct='%.0f%%', colors=colors)\n",
    "plt.title(\"Sales Distribution by Category\")\n",
    "plt.show()"
   ]
  },
  {
   "cell_type": "markdown",
   "id": "b7e77c9a",
   "metadata": {},
   "source": [
    "### 3.7 Revenue Distribution by Category"
   ]
  },
  {
   "cell_type": "code",
   "execution_count": null,
   "id": "b0788e2a",
   "metadata": {},
   "outputs": [],
   "source": [
    "# Compute revenue distribution by category\n",
    "revenue_by_category = sales_by_category[\"revenues\"]\n",
    "display(sales_by_category)"
   ]
  },
  {
   "cell_type": "code",
   "execution_count": null,
   "id": "93462570",
   "metadata": {},
   "outputs": [],
   "source": [
    "# Plot revenue distribution by category\n",
    "data_revenue = sales_by_category[\"revenues\"]\n",
    "\n",
    "plt.pie(data_revenue, labels=labels_sales, autopct='%.0f%%', colors=colors)\n",
    "plt.title(\"Revenue Distribution by Category\")\n",
    "plt.show()"
   ]
  },
  {
   "cell_type": "markdown",
   "id": "ef082451",
   "metadata": {},
   "source": [
    "### 3.8 Annual Revenue by Category"
   ]
  },
  {
   "cell_type": "code",
   "execution_count": null,
   "id": "1e79fd71",
   "metadata": {},
   "outputs": [],
   "source": [
    "# Pivot table for annual revenue by category\n",
    "annual_revenue_by_category = df_lapage.pivot_table(values=[\"price\"], index=df_lapage[\"date\"].dt.to_period('Y'), columns=['categ'], aggfunc=np.sum)\n",
    "annual_revenue_by_category.rename(columns={\"0\": \"Cat 0\", \"1\": \"Cat 1\", \"2\": \"Cat 2\"}, inplace=True)\n",
    "annual_revenue_by_category.index.names = [\"Year\"]\n",
    "display(annual_revenue_by_category)"
   ]
  },
  {
   "cell_type": "code",
   "execution_count": null,
   "id": "86b6507c",
   "metadata": {},
   "outputs": [],
   "source": [
    "# Plot annual revenue by category\n",
    "ax = annual_revenue_by_category.plot(kind=\"bar\", ylabel=\"Revenue (in million)\", xlabel=\"Year\", width=0.5, figsize=(11, 6), color=colors)\n",
    "ax.set(xlabel=None)\n",
    "plt.title(\"Revenue Distribution by Categories\", loc=\"right\", fontsize=13, fontweight=\"bold\")\n",
    "plt.legend([\"Category 0\", \"Category 1\", \"Category 2\"])\n",
    "plt.xticks(rotation=0)\n",
    "plt.show()"
   ]
  },
  {
   "cell_type": "code",
   "execution_count": null,
   "id": "3676d406",
   "metadata": {},
   "outputs": [],
   "source": [
    "# Analyzing average prices for each category\n",
    "average_prices_by_category = df_lapage_sales.groupby([\"categ\"]).agg({\"price\": \"mean\"})\n",
    "average_prices_by_category.rename(columns={\"price\": \"revenues\"}, inplace=True)\n",
    "display(average_prices_by_category.round(2))"
   ]
  },
  {
   "cell_type": "code",
   "execution_count": null,
   "id": "46cd7caa",
   "metadata": {},
   "outputs": [],
   "source": [
    "# Analyzing top-selling products in category 2\n",
    "products_in_category_2 = df_lapage_sales.loc[df_lapage_sales[\"categ\"] == \"2\"]\n",
    "products_in_category_2 = products_in_category_2.groupby([\"id_prod\", \"price\"]).agg({\"id_prod\": \"count\"})\n",
    "products_in_category_2.rename(columns={\"id_prod\": \"nb_sales\"}, inplace=True)\n",
    "top_10_in_category_2 = products_in_category_2.sort_values(\"nb_sales\", ascending=False).reset_index().head(10)"
   ]
  },
  {
   "cell_type": "code",
   "execution_count": null,
   "id": "feb1c622",
   "metadata": {},
   "outputs": [],
   "source": [
    "# Compute average price of top-selling products in category 2\n",
    "average_price_category_2 = top_10_in_category_2[\"price\"].mean()\n",
    "print(\"The average price of the top-selling products in category 2 is\", round(average_price_category_2, 2), \"€\")"
   ]
  },
  {
   "cell_type": "code",
   "execution_count": null,
   "id": "daca46ff",
   "metadata": {},
   "outputs": [],
   "source": [
    "# Analyzing the average number of sales for the top-priced products in category 2\n",
    "top_10_priced_products_in_category_2 = products_in_category_2.sort_values(\"price\", ascending=False).reset_index().head(10)\n",
    "display(top_10_priced_products_in_category_2)"
   ]
  },
  {
   "cell_type": "code",
   "execution_count": null,
   "id": "36fa2d20",
   "metadata": {},
   "outputs": [],
   "source": [
    "# Compute the average number of sales for the top-priced products in category 2\n",
    "average_sales_top_priced_category_2 = top_10_priced_products_in_category_2[\"nb_sales\"].mean()\n",
    "print(\"The average sales of the most expensive books in category 2 is\", round(average_sales_top_priced_category_2), \"copies.\")"
   ]
  },
  {
   "cell_type": "markdown",
   "id": "ed60ee4c",
   "metadata": {},
   "source": [
    "## 4. Customer profiles<a class=\"anchor\" id=\"sous_partie4-2\"></a>"
   ]
  },
  {
   "cell_type": "code",
   "execution_count": null,
   "id": "4722d0ba",
   "metadata": {},
   "outputs": [],
   "source": [
    "# Reminder: Only active clients are considered in these customer profiles\n",
    "df_customers = df_lapage[[\"date\", \"client_id\", \"age\", \"sex\", \"id_prod\", \"price\", \"categ\"]]"
   ]
  },
  {
   "cell_type": "markdown",
   "id": "7dfb5f19",
   "metadata": {},
   "source": [
    "### 4.1 Turnover per Customer"
   ]
  },
  {
   "cell_type": "code",
   "execution_count": null,
   "id": "24060f70",
   "metadata": {},
   "outputs": [],
   "source": [
    "# Considering each id_prod as a purchased product, we also count how many times a client made a purchase.\n",
    "# Assuming there are four B2B clients: c_1609, c_4958, c_6714, and c_3454.\n",
    "turnover_per_client = df_customers.groupby([\"client_id\", \"sex\", \"age\"]).agg({\"price\": \"sum\", \"id_prod\": \"count\"})\n",
    "turnover_per_client.rename(columns={\"price\": \"revenues\", \"id_prod\": \"nb_sales\"}, inplace=True)\n",
    "turnover_per_client = turnover_per_client.sort_values(\"revenues\", ascending=False).reset_index()\n",
    "display(turnover_per_client.head(10))"
   ]
  },
  {
   "cell_type": "code",
   "execution_count": null,
   "id": "310329f3",
   "metadata": {},
   "outputs": [],
   "source": [
    "# Lorenz Curve\n",
    "# It seems that 50% of the turnover is held by 80% of the clients.\n",
    "\n",
    "sns.set(rc={'figure.figsize': (10, 5)})\n",
    "\n",
    "prices = turnover_per_client[\"revenues\"].values\n",
    "n = len(prices)\n",
    "lorenz = np.cumsum(np.sort(prices)) / prices.sum()\n",
    "lorenz = np.append([0], lorenz) \n",
    "xaxis = np.linspace(0 - 1 / n, 1 + 1 / n, len(lorenz))\n",
    "\n",
    "plt.plot(xaxis, lorenz, drawstyle='steps-post', color='#E74646')\n",
    "plt.plot([0, 1], [0, 1])\n",
    "\n",
    "plt.xlabel(\"Cumulative Distribution of Clients (%)\")\n",
    "plt.ylabel(\"Cumulative Distribution of Turnover (%)\")\n",
    "plt.title(\"Lorenz Curve\", loc=\"left\", fontsize=13, fontweight=\"bold\")\n",
    "\n",
    "plt.show()"
   ]
  },
  {
   "cell_type": "code",
   "execution_count": null,
   "id": "ac080390",
   "metadata": {},
   "outputs": [],
   "source": [
    "# Gini Index\n",
    "AUC = (lorenz.sum() - lorenz[-1] / 2 - lorenz[0] / 2) / n\n",
    "S = 0.5 - AUC \n",
    "gini = 2 * S\n",
    "\n",
    "print(\"The GINI index is\", round(gini, 2))"
   ]
  },
  {
   "cell_type": "markdown",
   "id": "25e0a1fb",
   "metadata": {},
   "source": [
    "### 4.2 Relationship between Age and Total Purchase Amount"
   ]
  },
  {
   "cell_type": "code",
   "execution_count": null,
   "id": "70c647d0",
   "metadata": {},
   "outputs": [],
   "source": [
    "def relationship_age_total_purchase(df_customers):\n",
    "    # Check if DataFrame is empty or has missing values\n",
    "    if df_customers.empty or df_customers.isnull().values.any():\n",
    "        print(\"Input DataFrame is empty or contains missing values.\")\n",
    "        return\n",
    "\n",
    "    # Check for missing values in the 'age' column\n",
    "    if df_customers['age'].isnull().any():\n",
    "        print(\"DataFrame contains missing values in the 'age' column.\")\n",
    "        return\n",
    "\n",
    "    # Total purchase amount per age\n",
    "    total_purchase_amount_per_age = df_customers.groupby(\"age\")[\"price\"].sum().reset_index().sort_values(\"price\", ascending=False)\n",
    "\n",
    "    # Check if total_purchase_amount_per_age DataFrame is empty\n",
    "    if total_purchase_amount_per_age.empty:\n",
    "        print(\"No data available for total purchase amount per age.\")\n",
    "        return\n",
    "\n",
    "    display(total_purchase_amount_per_age.head())\n",
    "\n",
    "    # Plot relationship between age and total purchase amount\n",
    "    plt.figure(figsize=(11, 6))\n",
    "    sns.regplot(x=\"age\", y=\"price\", data=total_purchase_amount_per_age, color=\"#E74646\", line_kws={\"color\":\"#FA9884\",\"alpha\":0.7,\"lw\":5})\n",
    "    plt.title(\"Total Purchase Amount by Age\", loc=\"left\", fontsize=12, fontweight=\"bold\")\n",
    "    plt.xlabel(\"Age\")\n",
    "    plt.ylabel(\"Amount\")\n",
    "    plt.legend([\"Amount (€)\"], loc=\"upper right\")\n",
    "    plt.show()\n",
    "\n",
    "    # Pearson correlation\n",
    "    pearson_corr, pearson_p_value = pearsonr(total_purchase_amount_per_age[\"age\"], total_purchase_amount_per_age[\"price\"])\n",
    "    print(\"Pearson coefficient:\", round(pearson_corr, 3))\n",
    "    print(\"p-value:\", round(pearson_p_value, 3))\n",
    "    \n",
    "    # Interpret the correlation strength\n",
    "    if abs(pearson_corr) < 0.5:\n",
    "        strength = \"weak\"\n",
    "    elif abs(pearson_corr) >= 0.5 and abs(pearson_corr) < 0.8:\n",
    "        strength = \"moderate\"\n",
    "    else:\n",
    "        strength = \"strong\"\n",
    "\n",
    "    # Determine if correlation is statistically significant\n",
    "    significance = \"statistically significant\" if pearson_p_value < 0.05 else \"not statistically significant\"\n",
    "\n",
    "    # Print interpretation of correlation strength and significance\n",
    "    print(f\"The correlation is {strength}.\")\n",
    "    print(f\"The correlation is {significance}.\")\n",
    "\n",
    "    # Shapiro-Wilk test for normality\n",
    "    shapiro_test_stat, shapiro_p_value = shapiro(total_purchase_amount_per_age[\"price\"])\n",
    "    print(\"Shapiro-Wilk Test statistic:\", round(shapiro_test_stat, 3))\n",
    "    print(\"p-value:\", round(shapiro_p_value, 3))\n",
    "    \n",
    "    # Interpret the Shapiro-Wilk test result\n",
    "    if shapiro_p_value < 0.05:\n",
    "        print(\"The data is not normally distributed.\")\n",
    "    else:\n",
    "        print(\"The data is normally distributed.\")"
   ]
  },
  {
   "cell_type": "code",
   "execution_count": null,
   "id": "2ad0e34a",
   "metadata": {},
   "outputs": [],
   "source": [
    "relationship_age_total_purchase(df_customers)"
   ]
  },
  {
   "cell_type": "markdown",
   "id": "d129bfa3",
   "metadata": {},
   "source": [
    "### 4.3 Relationship between Age and Average Basket Size"
   ]
  },
  {
   "cell_type": "code",
   "execution_count": null,
   "id": "b2ce3b23",
   "metadata": {},
   "outputs": [],
   "source": [
    "def relationship_age_basket(df_customers):\n",
    "    # Check if DataFrame is empty or has missing values\n",
    "    if df_customers.empty or df_customers.isnull().values.any():\n",
    "        print(\"Input DataFrame is empty or contains missing values.\")\n",
    "        return\n",
    "\n",
    "    # Calculate average basket size across all ages\n",
    "    df_basket = df_customers.groupby([\"client_id\", \"age\"]).agg({\"price\": \"sum\", \"id_prod\": \"count\"}).reset_index()\n",
    "    df_basket[\"basket_size\"] = df_basket[\"price\"] / df_basket[\"id_prod\"]\n",
    "\n",
    "    # Plot relationship between age and average basket size\n",
    "    plt.figure(figsize=(11, 6))\n",
    "    sns.regplot(x=\"age\", y=\"basket_size\", data=df_basket, color=\"#E74646\", line_kws={\"color\":\"#FA9884\",\"alpha\":0.7,\"lw\":5})\n",
    "    plt.title(\"Average Basket Size by Age\", loc=\"left\", fontsize=13, fontweight=\"bold\")\n",
    "    plt.xlabel(\"Age\")\n",
    "    plt.ylabel(\"Average Basket Size (€)\")\n",
    "    plt.legend([\"Amount (€)\"], loc=\"upper right\")\n",
    "    plt.show()\n",
    "\n",
    "    # Pearson correlation\n",
    "    pearson_corr, p_value = pearsonr(df_basket[\"age\"], df_basket[\"basket_size\"])\n",
    "    print(\"Pearson coefficient:\", round(pearson_corr, 3))\n",
    "    print(\"P-value:\", round(p_value, 3))\n",
    "\n",
    "    # Interpret the correlation strength\n",
    "    if abs(pearson_corr) < 0.5:\n",
    "        strength = \"weak\"\n",
    "    elif abs(pearson_corr) >= 0.5 and abs(pearson_corr) < 0.8:\n",
    "        strength = \"moderate\"\n",
    "    else:\n",
    "        strength = \"strong\"\n",
    "\n",
    "    # Determine if correlation is statistically significant\n",
    "    significance = \"statistically significant\" if p_value < 0.05 else \"not statistically significant\"\n",
    "\n",
    "    # Print interpretation of correlation strength and significance\n",
    "    print(f\"The correlation is {strength}.\")\n",
    "    print(f\"The correlation is {significance}.\")"
   ]
  },
  {
   "cell_type": "code",
   "execution_count": null,
   "id": "cf3076f4",
   "metadata": {},
   "outputs": [],
   "source": [
    "relationship_age_basket(df_customers)"
   ]
  },
  {
   "cell_type": "markdown",
   "id": "546208ae",
   "metadata": {},
   "source": [
    "### 4.4 Relationship Between Age and Frequency of Purchase"
   ]
  },
  {
   "cell_type": "code",
   "execution_count": null,
   "id": "9d1bd1a9",
   "metadata": {},
   "outputs": [],
   "source": [
    "def calculate_rfm_score(df_customers):\n",
    "    \"\"\"\n",
    "    Calculate RFM (Recency, Frequency, Monetary) scores for customers.\n",
    "    \"\"\"\n",
    "    # Determine the analysis date\n",
    "    max_date = df_customers[\"date\"].max()\n",
    "    analysis_date = dt.datetime(max_date.year, max_date.month, max_date.day) + dt.timedelta(days=1)\n",
    "\n",
    "    # Create RFM dataset\n",
    "    rfm = df_customers.groupby([\"client_id\", \"age\"]).agg(\n",
    "        {\"date\": lambda day: (analysis_date - day.max()).days, \"id_prod\": \"count\", \"price\": \"sum\"}\n",
    "    )\n",
    "    col_list = [\"récence\", \"fréquence\", \"monétaire\"]\n",
    "    rfm.columns = col_list\n",
    "\n",
    "    # Assign scores to RFM categories\n",
    "    rfm[\"r\"] = pd.qcut(rfm[\"récence\"], 5, labels=[5, 4, 3, 2, 1])\n",
    "    rfm[\"f\"] = pd.qcut(rfm[\"fréquence\"], 5, labels=[1, 2, 3, 4, 5])\n",
    "    rfm[\"m\"] = pd.qcut(rfm[\"monétaire\"], 5, labels=[1, 2, 3, 4, 5])\n",
    "    rfm[\"rfm_score\"] = rfm[\"r\"].astype(str) + rfm[\"f\"].astype(str) + rfm[\"m\"].astype(str)\n",
    "\n",
    "    # Assign segment names based on RFM score\n",
    "    seg_map = {\n",
    "        r\"[1-2][1-2]\": \"Weak\",\n",
    "        r\"[1-2][3-4]\": \"Weak\",\n",
    "        r\"[1-2]5\": \"Weak\",\n",
    "        r\"3[1-2]\": \"Moderate\",\n",
    "        r\"33\": \"Moderate\",\n",
    "        r\"[3-4][4-5]\": \"Moderate\",\n",
    "        r\"41\": \"Moderate\",\n",
    "        r\"51\": \"Strong\",\n",
    "        r\"[4-5][2-3]\": \"Strong\",\n",
    "        r\"5[4-5]\": \"Strong\"\n",
    "    }\n",
    "    rfm[\"segment\"] = rfm[\"r\"].astype(str) + rfm[\"f\"].astype(str)\n",
    "    rfm[\"segment\"] = rfm[\"segment\"].replace(seg_map, regex=True)\n",
    "\n",
    "    # Drop unnecessary columns\n",
    "    rfm = rfm.drop(columns=[\"récence\", \"fréquence\", \"monétaire\", \"r\", \"f\", \"m\"]).reset_index()\n",
    "\n",
    "    # Assign age groups to clients\n",
    "    df_age_fréquence = rfm.assign(\n",
    "        agegroup=pd.cut(\n",
    "            rfm[\"age\"],\n",
    "            bins=[18, 25, 35, 45, 55, 65, 75, 85, 95],\n",
    "            right=False,\n",
    "            labels=[\"18-24\", \"25-34\", \"35-44\", \"45-54\", \"55-64\", \"65-74\", \"75-84\", \"+85\"]\n",
    "        )\n",
    "    )\n",
    "    return df_age_fréquence"
   ]
  },
  {
   "cell_type": "code",
   "execution_count": null,
   "id": "511dcc80",
   "metadata": {},
   "outputs": [],
   "source": [
    "def visualize_customer_segmentation(df_age_fréquence):\n",
    "    \"\"\"\n",
    "    Visualize the distribution of customer segments.\n",
    "    \"\"\"\n",
    "    df_rfm = df_age_fréquence.groupby([\"segment\"])[\"client_id\"].count().reset_index()\n",
    "    df_rfm.rename(columns={\"client_id\": \"nb of people\"}, inplace=True)\n",
    "    df_rfm[\"percent\"] = round((df_rfm[\"nb of people\"] / df_rfm[\"nb of people\"].sum()) * 100, 2)\n",
    "\n",
    "    segment_order = [\"Weak\", \"Moderate\", \"Strong\"]\n",
    "    df_rfm[\"segment\"] = pd.Categorical(df_rfm[\"segment\"], categories=segment_order, ordered=True)\n",
    "    df_rfm = df_rfm.sort_values(\"segment\")\n",
    "\n",
    "    plt.figure(figsize=(14, 6))\n",
    "    sns.barplot(data=df_rfm, x=\"segment\", y=\"nb of people\", palette=\"Reds\")\n",
    "    plt.title(\"Breakdown of customers by RFM scoring\", loc=\"left\", fontsize=13, fontweight=\"bold\")\n",
    "    plt.xlabel(\"RFM Segments\")\n",
    "    plt.ylabel(\"Number of customers\")\n",
    "    plt.show()"
   ]
  },
  {
   "cell_type": "code",
   "execution_count": null,
   "id": "bc2b55c5",
   "metadata": {},
   "outputs": [],
   "source": [
    "def perform_chi2_test(df_frequence):\n",
    "    \"\"\"\n",
    "    Perform Chi-square test on RFM frequencies.\n",
    "    \"\"\"\n",
    "    resultats_test = chi2_contingency(df_frequence)\n",
    "    print(\"Test statistics:\", round(resultats_test[0], 3))\n",
    "    print(\"p_value:\", round(resultats_test[1], 3))\n",
    "    print(\"Degrees of freedom:\", resultats_test[2])\n",
    "    \n",
    "    if resultats_test[1] < 0.05:\n",
    "        print(\"The p-value is less than 0.05. We reject the null hypothesis.\")\n",
    "        print(\"There is a significant relationship between gender and book categories purchased.\")\n",
    "    else:\n",
    "        print(\"The p-value is greater than or equal to 0.05. We fail to reject the null hypothesis.\")"
   ]
  },
  {
   "cell_type": "code",
   "execution_count": null,
   "id": "7ef9d37e",
   "metadata": {},
   "outputs": [],
   "source": [
    "df_age_fréquence = calculate_rfm_score(df_lapage)\n",
    "visualize_customer_segmentation(df_age_fréquence)\n",
    "perform_chi2_test(df_age_fréquence.pivot_table(index=\"segment\", columns=\"agegroup\", values=\"client_id\", aggfunc=len))"
   ]
  },
  {
   "cell_type": "markdown",
   "id": "adacdc3f",
   "metadata": {},
   "source": [
    "### 4.5 Relationship Between Age and Categories of Books Purchased"
   ]
  },
  {
   "cell_type": "code",
   "execution_count": null,
   "id": "e99bfc43",
   "metadata": {},
   "outputs": [],
   "source": [
    "def plot_category_sales_by_age(df_customers):\n",
    "    \"\"\"\n",
    "    Plot the number of sales per category by age.\n",
    "\n",
    "    Parameters:\n",
    "    - df_customers (DataFrame): DataFrame containing customer data with columns 'categ', 'age', and 'id_prod'.\n",
    "    \"\"\"\n",
    "    df_cat_age = df_customers.groupby([\"categ\", \"age\"]).agg({\"id_prod\": \"count\"}).rename(columns={\"id_prod\": \"nb_sales\"}).reset_index()\n",
    "\n",
    "    fig, ax = plt.subplots(figsize=(11, 6))\n",
    "\n",
    "    colors = [\"#E74646\", \"#FA9884\", \"#FFC07D\"]\n",
    "    labels = [\"Category 0\", \"Category 1\", \"Category 2\"]\n",
    "\n",
    "    for categ, color, label in zip(range(3), colors, labels):\n",
    "        age_categ = df_cat_age.query(f\"categ == '{categ}'\").groupby([\"age\"])[\"nb_sales\"].sum().reset_index()\n",
    "        ax.scatter(age_categ[\"age\"], age_categ[\"nb_sales\"], color=color, label=label, alpha=0.7)\n",
    "\n",
    "    ax.set_title(\"Number of sales by age\", loc=\"left\", fontsize=13, fontweight=\"bold\")\n",
    "    ax.set_xlabel(\"Age\")\n",
    "    ax.set_ylabel(\"Number of sales\")\n",
    "    ax.legend(loc=\"upper right\")\n",
    "\n",
    "    plt.show()"
   ]
  },
  {
   "cell_type": "code",
   "execution_count": null,
   "id": "89f77fd5",
   "metadata": {},
   "outputs": [],
   "source": [
    "def calculate_and_print_pearson(df_customers):\n",
    "    \"\"\"\n",
    "    Calculate and print the Pearson correlation coefficient and p-value.\n",
    "    \n",
    "    Parameters:\n",
    "    - df_cat_age (DataFrame): DataFrame containing columns 'age' and 'nb_sales'.\n",
    "    \"\"\"\n",
    "    df_cat_age = df_customers.groupby([\"categ\", \"age\"]).agg({\"id_prod\": \"count\"}).rename(columns={\"id_prod\": \"nb_sales\"}).reset_index()\n",
    "    \n",
    "    try:\n",
    "        # Extract data for correlation calculation\n",
    "        list1 = df_cat_age[\"age\"]\n",
    "        list2 = df_cat_age[\"nb_sales\"]\n",
    "\n",
    "        # Calculate Pearson correlation\n",
    "        pearson_coef, p_value = pearsonr(list1, list2)\n",
    "\n",
    "        # Print the results\n",
    "        print(\"Pearson correlation coefficient:\", round(pearson_coef, 3))\n",
    "        print(\"P-value:\", round(p_value, 3))\n",
    "\n",
    "        # Interpret the correlation strength\n",
    "        if abs(pearson_coef) < 0.5:\n",
    "            strength = \"weak\"\n",
    "        elif abs(pearson_coef) >= 0.5 and abs(pearson_coef) < 0.8:\n",
    "            strength = \"moderate\"\n",
    "        else:\n",
    "            strength = \"strong\"\n",
    "\n",
    "        # Determine if correlation is statistically significant\n",
    "        significance = \"statistically significant\" if p_value < 0.05 else \"not statistically significant\"\n",
    "\n",
    "        # Print interpretation of correlation strength and significance\n",
    "        print(f\"The correlation is {strength}.\")\n",
    "        print(f\"The correlation is {significance}.\")\n",
    "        \n",
    "    except Exception as e:\n",
    "        print(\"An error occurred while calculating Pearson correlation:\", e) "
   ]
  },
  {
   "cell_type": "code",
   "execution_count": null,
   "id": "4e989ac2",
   "metadata": {},
   "outputs": [],
   "source": [
    "plot_category_sales_by_age(df_customers)\n",
    "calculate_and_print_pearson(df_customers)"
   ]
  },
  {
   "cell_type": "markdown",
   "id": "761102ee",
   "metadata": {},
   "source": [
    "### 4.6 Relationship Between Genre and Categories of Books Purchased"
   ]
  },
  {
   "cell_type": "code",
   "execution_count": null,
   "id": "21eb6bb3",
   "metadata": {},
   "outputs": [],
   "source": [
    "def analyze_genre_category_relationship(df_customers):\n",
    "    \"\"\"\n",
    "    Analyze the relationship between gender and book categories purchased.\n",
    "    \n",
    "    Parameters:\n",
    "    - df_client (DataFrame): DataFrame containing customer data with columns 'sex' and 'categ'.\n",
    "    \"\"\"\n",
    "    # Cross-tabulate gender and book categories\n",
    "    df_genre = pd.crosstab(index=df_customers[\"sex\"], columns=df_customers[\"categ\"])\n",
    "\n",
    "    # Rename index and columns for better readability\n",
    "    df_genre.rename(index={\"f\": \"Female\", \"m\": \"Male\"}, inplace=True)\n",
    "    df_genre.rename(columns={\"0\": \"Category 0\", \"1\": \"Category 1\", \"2\": \"Category 2\"}, inplace=True)\n",
    "\n",
    "    # Drop \"total\" row and column\n",
    "    if \"total\" in df_genre.index:\n",
    "        df_genre = df_genre.drop(\"total\", axis=0)\n",
    "    if \"total\" in df_genre.columns:\n",
    "        df_genre = df_genre.drop(\"total\", axis=1)\n",
    "\n",
    "    # Plot bar chart\n",
    "    ax = df_genre.plot(kind=\"bar\", ylabel=\"Number of sales\", width=0.5, figsize=(11,6), \n",
    "                       color=[\"#E74646\", \"#FA9884\", \"#FFC07D\"])\n",
    "    ax.set(xlabel=None)\n",
    "    plt.title(\"Number of sales by category\", loc=\"left\", fontsize=13, fontweight=\"bold\")\n",
    "    plt.legend([\"Category 0\", \"Category 1\", \"Category 2\"], loc=\"upper right\")\n",
    "    plt.xticks(rotation=0)\n",
    "    plt.show()\n",
    "\n",
    "    # Plot heatmap\n",
    "    plt.figure(figsize=(10, 6))\n",
    "    sns.heatmap(df_genre, linewidths=2, square=True, cmap='Reds', annot=True)\n",
    "    plt.title(\"Heatmap Genders / Category of books purchased\", fontweight=\"bold\", fontsize=13)\n",
    "    plt.ylabel(\"Genders\")\n",
    "    plt.xlabel(\"Categories\")\n",
    "    plt.show()\n",
    "\n",
    "    # Chi-squared test\n",
    "    chi2_stat, p_value, dof, _ = chi2_contingency(df_genre)\n",
    "    print(\"Chi-squared statistic:\", round(chi2_stat, 3))\n",
    "    print(\"p-value:\", round(p_value, 3))\n",
    "    print(\"Degrees of freedom:\", dof)\n",
    "    \n",
    "    if p_value < 0.05:\n",
    "        print(\"The p-value is less than 0.05. We reject the null hypothesis.\")\n",
    "        print(\"There is a significant relationship between gender and book categories purchased.\")\n",
    "    else:\n",
    "        print(\"The p-value is greater than or equal to 0.05. We fail to reject the null hypothesis.\")\n",
    "\n",
    "    # Cramer's V\n",
    "    N = np.sum(df_genre.values)\n",
    "    min_dimension = min(df_genre.shape) - 1\n",
    "    cramer_v = np.sqrt(chi2_stat / (N * min_dimension))\n",
    "\n",
    "    print(\"Cramer's V:\", round(cramer_v, 3))\n",
    "\n",
    "    if cramer_v > 0.9:\n",
    "        print(\"The relationship between gender and book categories purchased is very strong.\")\n",
    "    elif cramer_v < 0.1:\n",
    "        print(\"The relationship between gender and book categories purchased is weak.\")\n",
    "    else:\n",
    "        print(\"The relationship between gender and book categories purchased is moderate.\")"
   ]
  },
  {
   "cell_type": "code",
   "execution_count": null,
   "id": "e2467e0d",
   "metadata": {},
   "outputs": [],
   "source": [
    "analyze_genre_category_relationship(df_customers)"
   ]
  }
 ],
 "metadata": {
  "kernelspec": {
   "display_name": "Python 3 (ipykernel)",
   "language": "python",
   "name": "python3"
  },
  "language_info": {
   "codemirror_mode": {
    "name": "ipython",
    "version": 3
   },
   "file_extension": ".py",
   "mimetype": "text/x-python",
   "name": "python",
   "nbconvert_exporter": "python",
   "pygments_lexer": "ipython3",
   "version": "3.10.9"
  }
 },
 "nbformat": 4,
 "nbformat_minor": 5
}
